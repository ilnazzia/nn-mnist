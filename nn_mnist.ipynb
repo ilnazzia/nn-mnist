{
 "cells": [
  {
   "cell_type": "markdown",
   "metadata": {
    "id": "KBeojQNTzwY-"
   },
   "source": [
    "<h3 style=\"text-align: center;\"><b>Сравнение известных архитектур нейросетей для решения задачи классификации MNIST</b></h3>\n",
    "\n",
    "\n",
    "\n",
    "\n",
    "\n",
    "\n"
   ]
  },
  {
   "cell_type": "code",
   "execution_count": 1,
   "metadata": {},
   "outputs": [],
   "source": [
    "!export PATH=/Library/TeX/texbin:$PATH"
   ]
  },
  {
   "cell_type": "code",
   "execution_count": 2,
   "metadata": {
    "id": "Kd-KUTc1CBXm"
   },
   "outputs": [],
   "source": [
    "import os\n",
    "\n",
    "import numpy as np\n",
    "\n",
    "import seaborn as sns\n",
    "from matplotlib import pyplot as plt\n",
    "\n",
    "from sklearn.datasets import make_moons\n",
    "from sklearn.model_selection import train_test_split\n",
    "\n",
    "import torch\n",
    "import torchvision.transforms as tfs\n",
    "from torch import nn\n",
    "from torch.nn import functional as F\n",
    "from torchvision.datasets import MNIST\n",
    "from torch.utils.data import TensorDataset, DataLoader\n",
    "from torch.optim.lr_scheduler import StepLR\n",
    "\n",
    "sns.set(style=\"darkgrid\", font_scale=1.4)"
   ]
  },
  {
   "cell_type": "code",
   "execution_count": 3,
   "metadata": {
    "id": "LuUE2wihC4GW"
   },
   "outputs": [],
   "source": [
    "data_tfs = tfs.Compose([\n",
    "    tfs.ToTensor(),\n",
    "    tfs.Normalize((0.5), (0.5))\n",
    "])\n",
    "\n",
    "root = './'\n",
    "train_dataset = MNIST(root, train=True,  transform=data_tfs, download=True)\n",
    "val_dataset  = MNIST(root, train=False, transform=data_tfs, download=True)\n",
    "\n",
    "batch_size = 128\n",
    "train_dataloader = DataLoader(train_dataset, batch_size=batch_size, drop_last=True, num_workers=8)\n",
    "valid_dataloader = DataLoader(val_dataset, batch_size=batch_size, drop_last=True, num_workers=8)\n",
    "\n",
    "loaders = {\"train\": train_dataloader, \"valid\": valid_dataloader}"
   ]
  },
  {
   "cell_type": "markdown",
   "metadata": {
    "id": "4b9ib9saC9Vb"
   },
   "source": [
    "### LeNet\n",
    "\n",
    "Наша нейронная сеть будет состоять из\n",
    "* Свёртки 3x3 (1 карта на входе, 6 на выходе) с активацией ReLU;\n",
    "* MaxPooling-а 2x2;\n",
    "* Свёртки 3x3 (6 карт на входе, 16 на выходе) с активацией ReLU;\n",
    "* MaxPooling-а 2x2;\n",
    "* Уплощения (nn.Flatten);\n",
    "* Полносвязного слоя со 120 нейронами и активацией ReLU;\n",
    "* Полносвязного слоя с 84 нейронами и активацией ReLU;\n",
    "* Выходного слоя из 10 нейронов.\n",
    "\n",
    "\n"
   ]
  },
  {
   "cell_type": "code",
   "execution_count": 4,
   "metadata": {
    "id": "lE8qJByKC-u0"
   },
   "outputs": [],
   "source": [
    "class LeNet(nn.Module):\n",
    "    def __init__(self):\n",
    "        super(LeNet, self).__init__()\n",
    "        self.conv1 = nn.Conv2d(1, 6, 3)\n",
    "        self.pool = nn.MaxPool2d(kernel_size=2, stride=2)\n",
    "        self.conv2 = nn.Conv2d(6, 16, 3)\n",
    "        self.fl = nn.Flatten()\n",
    "        self.fc1 = nn.Linear(5 * 5 * 16, 120) \n",
    "        self.fc2 = nn.Linear(120, 84)\n",
    "        self.fc3 = nn.Linear(84, 10)\n",
    "\n",
    "    def forward(self, x):\n",
    "        x = self.pool(F.relu(self.conv1(x)))\n",
    "        x = self.pool(F.relu(self.conv2(x)))\n",
    "        x = self.fl(x) \n",
    "        x = F.relu(self.fc1(x))\n",
    "        x = F.relu(self.fc2(x))\n",
    "        x = self.fc3(x)\n",
    "        return x"
   ]
  },
  {
   "cell_type": "markdown",
   "metadata": {
    "id": "J21MIKtjRNWA"
   },
   "source": [
    "### Задание. Обучите CNN\n",
    "Используйте код обучения, который вы написали для полносвязной нейронной сети."
   ]
  },
  {
   "cell_type": "code",
   "execution_count": 5,
   "metadata": {},
   "outputs": [],
   "source": [
    "def evaluate_model(model, test_dataloader):\n",
    "    num = 0\n",
    "    den = 0\n",
    "    y_true = list()\n",
    "    y_pred = list()\n",
    "    y_pred_prob = list()\n",
    "    f1_valid = .0\n",
    "    for x, y in test_dataloader:\n",
    "        with torch.no_grad():\n",
    "            output = model(\n",
    "                input_ids=x.input_ids,\n",
    "                attention_mask=x.attention_mask,\n",
    "                labels=y,\n",
    "                return_dict=True\n",
    "            )\n",
    "            loss = output.loss\n",
    "            \n",
    "            num += len(x) * loss.item()\n",
    "            den += len(x)\n",
    "            \n",
    "            y_pred.extend(torch.argmax(output.logits, 1).tolist())\n",
    "            y_pred_prob.extend(softmax(output.logits, dim = 1)[:, 1].tolist())\n",
    "            y_true.extend(torch.argmax(y, 1).tolist())\n",
    "            \n",
    "    val_loss = num / den\n",
    "    f1_valid = f1_score(y_true, y_pred, average = 'micro')\n",
    "    return val_loss, f1_valid, y_pred_prob"
   ]
  },
  {
   "cell_type": "code",
   "execution_count": 9,
   "metadata": {
    "id": "X06XkVKiFQLi"
   },
   "outputs": [],
   "source": [
    "def train_loop(\n",
    "    model, loaders, \n",
    "    max_epochs=, \n",
    "    lr=1e-2,\n",
    "    #eval_steps = 50\n",
    "):\n",
    "    optimizer = torch.optim.Adam(params=model.parameters(), lr=lr)\n",
    "    scheduler = StepLR(optimizer, step_size=3, gamma=0.5)\n",
    "    \n",
    "    accuracy = {\"train\": [], \"valid\": []}\n",
    "    \n",
    "    for epoch in range(max_epochs):\n",
    "        for k, dataloader in loaders.items():\n",
    "            epoch_correct = 0\n",
    "            epoch_all = 0\n",
    "            for x_batch, y_batch in dataloader:\n",
    "                if k == \"train\":\n",
    "                    model.train()\n",
    "                    optimizer.zero_grad()\n",
    "                    outp = model(x_batch)\n",
    "                else:\n",
    "                    model.eval()\n",
    "                    with torch.no_grad():\n",
    "                        outp = model(x_batch)    \n",
    "                preds = outp.argmax(-1)\n",
    "                correct = preds[preds == y_batch]\n",
    "                all_ = y_batch.shape[0]\n",
    "                epoch_correct += correct.count_nonzero()\n",
    "                epoch_all += all_  \n",
    "                if k == \"train\":\n",
    "                    loss = criterion(outp, y_batch)\n",
    "                    loss.backward()\n",
    "                    optimizer.step()\n",
    "            if k == \"train\":\n",
    "                print(f\"Epoch: {epoch+1}\")\n",
    "            print(f\"Loader: {k}. Accuracy: {epoch_correct/epoch_all}\")\n",
    "            accuracy[k].append(epoch_correct/epoch_all)\n",
    "        scheduler.step()\n",
    "    return accuracy"
   ]
  },
  {
   "cell_type": "code",
   "execution_count": 10,
   "metadata": {
    "id": "dgfBX_HPyd_z"
   },
   "outputs": [
    {
     "name": "stdout",
     "output_type": "stream",
     "text": [
      "Epoch: 1\n",
      "Loader: train. Accuracy: 0.8480902910232544\n",
      "Loader: valid. Accuracy: 0.8829126358032227\n",
      "Epoch: 2\n",
      "Loader: train. Accuracy: 0.8826789259910583\n",
      "Loader: valid. Accuracy: 0.8842147588729858\n",
      "Epoch: 3\n",
      "Loader: train. Accuracy: 0.8866186141967773\n",
      "Loader: valid. Accuracy: 0.8828125\n",
      "Epoch: 4\n",
      "Loader: train. Accuracy: 0.8933460116386414\n",
      "Loader: valid. Accuracy: 0.8870192170143127\n",
      "Epoch: 5\n",
      "Loader: train. Accuracy: 0.8958666920661926\n",
      "Loader: valid. Accuracy: 0.8900240659713745\n"
     ]
    }
   ],
   "source": [
    "model = LeNet()\n",
    "criterion = nn.CrossEntropyLoss()\n",
    "lenet_accuracy = train_loop(model, loaders)"
   ]
  },
  {
   "cell_type": "code",
   "execution_count": 14,
   "metadata": {},
   "outputs": [
    {
     "data": {
      "text/plain": [
       "[tensor(0.8829),\n",
       " tensor(0.8842),\n",
       " tensor(0.8828),\n",
       " tensor(0.8870),\n",
       " tensor(0.8900)]"
      ]
     },
     "execution_count": 14,
     "metadata": {},
     "output_type": "execute_result"
    }
   ],
   "source": [
    "lenet_accuracy"
   ]
  },
  {
   "cell_type": "markdown",
   "metadata": {
    "id": "q-PwAI5SPMBx"
   },
   "source": [
    "Сравним с предыдущем пунктом"
   ]
  },
  {
   "cell_type": "code",
   "execution_count": 15,
   "metadata": {
    "id": "VDq6pSi_yytp"
   },
   "outputs": [
    {
     "data": {
      "image/png": "[encoded data removed]",
      "text/plain": [
       "<Figure size 1152x720 with 1 Axes>"
      ]
     },
     "metadata": {},
     "output_type": "display_data"
    }
   ],
   "source": [
    "plt.figure(figsize=(16, 10))\n",
    "plt.title(\"Valid accuracy\")\n",
    "plt.plot(range(5), lenet_accuracy['valid'], label=\"LeNet\", linewidth=2)\n",
    "plt.legend()\n",
    "plt.xlabel(\"Epoch\")\n",
    "plt.show()"
   ]
  },
  {
   "cell_type": "code",
   "execution_count": null,
   "metadata": {},
   "outputs": [],
   "source": []
  }
 ],
 "metadata": {
  "colab": {
   "collapsed_sections": [],
   "name": "[homework]dense_and_convolutional_nn.ipynb",
   "provenance": [],
   "toc_visible": true
  },
  "kernelspec": {
   "display_name": "Python 3 (ipykernel)",
   "language": "python",
   "name": "python3"
  },
  "language_info": {
   "codemirror_mode": {
    "name": "ipython",
    "version": 3
   },
   "file_extension": ".py",
   "mimetype": "text/x-python",
   "name": "python",
   "nbconvert_exporter": "python",
   "pygments_lexer": "ipython3",
   "version": "3.9.12"
  }
 },
 "nbformat": 4,
 "nbformat_minor": 1
}
